{
 "cells": [
  {
   "attachments": {},
   "cell_type": "markdown",
   "metadata": {},
   "source": [
    "# Hyperflow 2023: **Python for FCM (forget R 😉)**"
   ]
  },
  {
   "attachments": {},
   "cell_type": "markdown",
   "metadata": {},
   "source": [
    "This notebook gives a brief introduction of processing Flow Cytometry (FCM) data with python. Most of the featured examples are based on the open-source Python framework [Cytoflow](https://cytoflow.readthedocs.io/en/stable/). Please check it out for further information."
   ]
  },
  {
   "attachments": {},
   "cell_type": "markdown",
   "metadata": {},
   "source": [
    "First we import matplotlib (a plotting framework for python) and cytoflow. We configure some default settings to enable larger plots in this notebook."
   ]
  },
  {
   "cell_type": "code",
   "execution_count": null,
   "metadata": {},
   "outputs": [],
   "source": [
    "import matplotlib.pyplot as plt\n",
    "plt.rcParams['figure.dpi'] = 100\n",
    "%matplotlib inline\n",
    "    \n",
    "import cytoflow as flow\n",
    "# flow.DefaultKWArgs[\"height\"] = 4"
   ]
  },
  {
   "attachments": {},
   "cell_type": "markdown",
   "metadata": {},
   "source": [
    "#### Reading FCS files"
   ]
  },
  {
   "attachments": {},
   "cell_type": "markdown",
   "metadata": {},
   "source": [
    "Next we read in FCM measurements. We can either read  data from a FCS-file or from a CSV-file."
   ]
  },
  {
   "cell_type": "code",
   "execution_count": 2,
   "metadata": {},
   "outputs": [],
   "source": [
    "basepath = \"./data/\"\n",
    "tube1 = flow.Tube(file = basepath + '494.csv')\n",
    "ex = flow.ImportOp(tubes = [tube1]).apply()"
   ]
  },
  {
   "attachments": {},
   "cell_type": "markdown",
   "metadata": {},
   "source": [
    "Everything in Cytoflow is build around experiments. An experiment is the primary object that holds FCM measurements and metadata of several tubes. Core structure within the experiment is a Pandas Dataframe:"
   ]
  },
  {
   "cell_type": "code",
   "execution_count": 3,
   "metadata": {},
   "outputs": [
    {
     "data": {
      "text/html": [
       "<div>\n",
       "<style scoped>\n",
       "    .dataframe tbody tr th:only-of-type {\n",
       "        vertical-align: middle;\n",
       "    }\n",
       "\n",
       "    .dataframe tbody tr th {\n",
       "        vertical-align: top;\n",
       "    }\n",
       "\n",
       "    .dataframe thead th {\n",
       "        text-align: right;\n",
       "    }\n",
       "</style>\n",
       "<table border=\"1\" class=\"dataframe\">\n",
       "  <thead>\n",
       "    <tr style=\"text-align: right;\">\n",
       "      <th></th>\n",
       "      <th>TIME</th>\n",
       "      <th>FSC-A</th>\n",
       "      <th>FSC-W</th>\n",
       "      <th>SSC-A</th>\n",
       "      <th>CD20</th>\n",
       "      <th>CD10</th>\n",
       "      <th>CD45</th>\n",
       "      <th>CD34</th>\n",
       "      <th>SY41</th>\n",
       "      <th>CD19</th>\n",
       "      <th>CD38</th>\n",
       "      <th>APC-CY7-A</th>\n",
       "    </tr>\n",
       "  </thead>\n",
       "  <tbody>\n",
       "    <tr>\n",
       "      <th>0</th>\n",
       "      <td>0.256109</td>\n",
       "      <td>0.724819</td>\n",
       "      <td>0.000000</td>\n",
       "      <td>0.993575</td>\n",
       "      <td>0.511647</td>\n",
       "      <td>0.737258</td>\n",
       "      <td>3.116999</td>\n",
       "      <td>0.610369</td>\n",
       "      <td>2.394137</td>\n",
       "      <td>2.838983</td>\n",
       "      <td>1.824015</td>\n",
       "      <td>1.053927</td>\n",
       "    </tr>\n",
       "    <tr>\n",
       "      <th>1</th>\n",
       "      <td>0.256109</td>\n",
       "      <td>2.111998</td>\n",
       "      <td>1.095594</td>\n",
       "      <td>0.789835</td>\n",
       "      <td>2.883300</td>\n",
       "      <td>4.009430</td>\n",
       "      <td>3.395909</td>\n",
       "      <td>2.123596</td>\n",
       "      <td>3.296094</td>\n",
       "      <td>2.423301</td>\n",
       "      <td>1.525653</td>\n",
       "      <td>1.349321</td>\n",
       "    </tr>\n",
       "    <tr>\n",
       "      <th>2</th>\n",
       "      <td>0.256109</td>\n",
       "      <td>2.071740</td>\n",
       "      <td>1.094057</td>\n",
       "      <td>4.499983</td>\n",
       "      <td>1.406279</td>\n",
       "      <td>1.910993</td>\n",
       "      <td>2.866903</td>\n",
       "      <td>0.984716</td>\n",
       "      <td>3.535055</td>\n",
       "      <td>1.830034</td>\n",
       "      <td>2.072034</td>\n",
       "      <td>0.882448</td>\n",
       "    </tr>\n",
       "    <tr>\n",
       "      <th>3</th>\n",
       "      <td>0.256150</td>\n",
       "      <td>1.923883</td>\n",
       "      <td>1.095217</td>\n",
       "      <td>0.648713</td>\n",
       "      <td>1.031393</td>\n",
       "      <td>4.020207</td>\n",
       "      <td>2.840137</td>\n",
       "      <td>0.942146</td>\n",
       "      <td>3.296256</td>\n",
       "      <td>2.922170</td>\n",
       "      <td>1.724284</td>\n",
       "      <td>0.740326</td>\n",
       "    </tr>\n",
       "    <tr>\n",
       "      <th>4</th>\n",
       "      <td>0.256190</td>\n",
       "      <td>1.580198</td>\n",
       "      <td>1.005982</td>\n",
       "      <td>0.781159</td>\n",
       "      <td>1.264268</td>\n",
       "      <td>1.307244</td>\n",
       "      <td>3.775684</td>\n",
       "      <td>0.514218</td>\n",
       "      <td>2.890679</td>\n",
       "      <td>1.018567</td>\n",
       "      <td>1.652686</td>\n",
       "      <td>0.857172</td>\n",
       "    </tr>\n",
       "    <tr>\n",
       "      <th>...</th>\n",
       "      <td>...</td>\n",
       "      <td>...</td>\n",
       "      <td>...</td>\n",
       "      <td>...</td>\n",
       "      <td>...</td>\n",
       "      <td>...</td>\n",
       "      <td>...</td>\n",
       "      <td>...</td>\n",
       "      <td>...</td>\n",
       "      <td>...</td>\n",
       "      <td>...</td>\n",
       "      <td>...</td>\n",
       "    </tr>\n",
       "    <tr>\n",
       "      <th>83406</th>\n",
       "      <td>4.499838</td>\n",
       "      <td>4.229612</td>\n",
       "      <td>1.110860</td>\n",
       "      <td>4.499983</td>\n",
       "      <td>1.581865</td>\n",
       "      <td>1.840961</td>\n",
       "      <td>2.920752</td>\n",
       "      <td>1.529190</td>\n",
       "      <td>3.640661</td>\n",
       "      <td>1.976877</td>\n",
       "      <td>2.090316</td>\n",
       "      <td>0.663859</td>\n",
       "    </tr>\n",
       "    <tr>\n",
       "      <th>83407</th>\n",
       "      <td>4.499919</td>\n",
       "      <td>1.721509</td>\n",
       "      <td>1.086372</td>\n",
       "      <td>0.589498</td>\n",
       "      <td>2.136454</td>\n",
       "      <td>3.867376</td>\n",
       "      <td>3.045547</td>\n",
       "      <td>2.038175</td>\n",
       "      <td>2.996041</td>\n",
       "      <td>1.974872</td>\n",
       "      <td>2.348283</td>\n",
       "      <td>0.862303</td>\n",
       "    </tr>\n",
       "    <tr>\n",
       "      <th>83408</th>\n",
       "      <td>4.499959</td>\n",
       "      <td>1.888425</td>\n",
       "      <td>1.035353</td>\n",
       "      <td>1.412427</td>\n",
       "      <td>3.039960</td>\n",
       "      <td>4.131422</td>\n",
       "      <td>3.501659</td>\n",
       "      <td>2.281008</td>\n",
       "      <td>3.293125</td>\n",
       "      <td>3.573528</td>\n",
       "      <td>3.040444</td>\n",
       "      <td>1.108402</td>\n",
       "    </tr>\n",
       "    <tr>\n",
       "      <th>83409</th>\n",
       "      <td>4.500000</td>\n",
       "      <td>1.479483</td>\n",
       "      <td>1.069826</td>\n",
       "      <td>0.567807</td>\n",
       "      <td>1.333666</td>\n",
       "      <td>4.141739</td>\n",
       "      <td>3.046796</td>\n",
       "      <td>1.852519</td>\n",
       "      <td>3.120067</td>\n",
       "      <td>2.561236</td>\n",
       "      <td>1.447637</td>\n",
       "      <td>0.767203</td>\n",
       "    </tr>\n",
       "    <tr>\n",
       "      <th>83410</th>\n",
       "      <td>4.500000</td>\n",
       "      <td>1.235837</td>\n",
       "      <td>1.022533</td>\n",
       "      <td>0.782086</td>\n",
       "      <td>2.860944</td>\n",
       "      <td>3.888818</td>\n",
       "      <td>3.346173</td>\n",
       "      <td>1.913767</td>\n",
       "      <td>3.015716</td>\n",
       "      <td>3.390506</td>\n",
       "      <td>2.829070</td>\n",
       "      <td>0.297425</td>\n",
       "    </tr>\n",
       "  </tbody>\n",
       "</table>\n",
       "<p>83411 rows × 12 columns</p>\n",
       "</div>"
      ],
      "text/plain": [
       "           TIME     FSC-A     FSC-W     SSC-A      CD20      CD10      CD45  \\\n",
       "0      0.256109  0.724819  0.000000  0.993575  0.511647  0.737258  3.116999   \n",
       "1      0.256109  2.111998  1.095594  0.789835  2.883300  4.009430  3.395909   \n",
       "2      0.256109  2.071740  1.094057  4.499983  1.406279  1.910993  2.866903   \n",
       "3      0.256150  1.923883  1.095217  0.648713  1.031393  4.020207  2.840137   \n",
       "4      0.256190  1.580198  1.005982  0.781159  1.264268  1.307244  3.775684   \n",
       "...         ...       ...       ...       ...       ...       ...       ...   \n",
       "83406  4.499838  4.229612  1.110860  4.499983  1.581865  1.840961  2.920752   \n",
       "83407  4.499919  1.721509  1.086372  0.589498  2.136454  3.867376  3.045547   \n",
       "83408  4.499959  1.888425  1.035353  1.412427  3.039960  4.131422  3.501659   \n",
       "83409  4.500000  1.479483  1.069826  0.567807  1.333666  4.141739  3.046796   \n",
       "83410  4.500000  1.235837  1.022533  0.782086  2.860944  3.888818  3.346173   \n",
       "\n",
       "           CD34      SY41      CD19      CD38  APC-CY7-A  \n",
       "0      0.610369  2.394137  2.838983  1.824015   1.053927  \n",
       "1      2.123596  3.296094  2.423301  1.525653   1.349321  \n",
       "2      0.984716  3.535055  1.830034  2.072034   0.882448  \n",
       "3      0.942146  3.296256  2.922170  1.724284   0.740326  \n",
       "4      0.514218  2.890679  1.018567  1.652686   0.857172  \n",
       "...         ...       ...       ...       ...        ...  \n",
       "83406  1.529190  3.640661  1.976877  2.090316   0.663859  \n",
       "83407  2.038175  2.996041  1.974872  2.348283   0.862303  \n",
       "83408  2.281008  3.293125  3.573528  3.040444   1.108402  \n",
       "83409  1.852519  3.120067  2.561236  1.447637   0.767203  \n",
       "83410  1.913767  3.015716  3.390506  2.829070   0.297425  \n",
       "\n",
       "[83411 rows x 12 columns]"
      ]
     },
     "execution_count": 3,
     "metadata": {},
     "output_type": "execute_result"
    }
   ],
   "source": [
    "ex.data"
   ]
  },
  {
   "attachments": {},
   "cell_type": "markdown",
   "metadata": {},
   "source": [
    "Pandas Dataframes are one of the most commonly used structures when manipulating tabular data in Python. We can do all sort of things with it like selecting, transforming and cleaning data instances."
   ]
  },
  {
   "attachments": {},
   "cell_type": "markdown",
   "metadata": {},
   "source": [
    "## Views in Cytoflow\n",
    "Let's plot our experiment with Cytoflow. We first define a View where we specify which channels we want to visualize. And then we use this view to plot our previously created experiment. Cytoflow always follows this pattern: First we define the parameters of our view and then we plot it with a particular experiment."
   ]
  },
  {
   "cell_type": "code",
   "execution_count": null,
   "metadata": {},
   "outputs": [],
   "source": [
    "scatter_cd19cd45 = flow.ScatterplotView(xchannel = 'CD19', ychannel = 'CD45')\n",
    "scatter_cd19cd45.plot(ex)"
   ]
  },
  {
   "attachments": {},
   "cell_type": "markdown",
   "metadata": {},
   "source": [
    "There are many different views in Cytoflow such as Histograms, Bar Charts, Violin Plots or Kernel Density Estimates."
   ]
  },
  {
   "cell_type": "code",
   "execution_count": null,
   "metadata": {},
   "outputs": [],
   "source": [
    "kde_cd19cd45 = flow.Kde2DView(xchannel = 'CD19', ychannel = 'CD45') \n",
    "kde_cd19cd45.plot(ex)"
   ]
  },
  {
   "attachments": {},
   "cell_type": "markdown",
   "metadata": {},
   "source": [
    "## Operations in Cytoflow\n",
    "Besides *Views* there are exists *Operations* that allows us to manipulate experiments in Cytoflow. Consider the ThresholdOperation:"
   ]
  },
  {
   "cell_type": "code",
   "execution_count": null,
   "metadata": {},
   "outputs": [],
   "source": [
    "cd19_thresh = flow.ThresholdOp(name = \"CD19pos\",channel = 'CD19', threshold = 1.5)\n",
    "\n",
    "ex2 = cd19_thresh.apply(ex)\n",
    "\n"
   ]
  },
  {
   "attachments": {},
   "cell_type": "markdown",
   "metadata": {},
   "source": [
    "We first defined the Operation and then applied to our experiment. This results in a new experiments, which now contains a condition that indicates which events are above the threshold which are below."
   ]
  },
  {
   "cell_type": "code",
   "execution_count": null,
   "metadata": {},
   "outputs": [],
   "source": [
    "ex2.conditions"
   ]
  },
  {
   "attachments": {},
   "cell_type": "markdown",
   "metadata": {},
   "source": [
    "\n",
    "Operations in Cytoflow also often have a default view that visualizes the Operation applied to an experiment."
   ]
  },
  {
   "cell_type": "code",
   "execution_count": null,
   "metadata": {},
   "outputs": [],
   "source": [
    "cd19_thresh.default_view().plot(ex2)"
   ]
  },
  {
   "attachments": {},
   "cell_type": "markdown",
   "metadata": {},
   "source": [
    "We can now also use the CD19pos condition to add color to our scatter plot:"
   ]
  },
  {
   "cell_type": "code",
   "execution_count": null,
   "metadata": {},
   "outputs": [],
   "source": [
    "scatter_cd19cd45.huefacet = 'CD19pos'\n",
    "scatter_cd19cd45.plot(ex2)"
   ]
  },
  {
   "attachments": {},
   "cell_type": "markdown",
   "metadata": {},
   "source": [
    "We can do the same with our KDE plot."
   ]
  },
  {
   "cell_type": "code",
   "execution_count": null,
   "metadata": {},
   "outputs": [],
   "source": [
    "kde_cd19cd45.huefacet = 'CD19pos'\n",
    "kde_cd19cd45.plot(ex2)"
   ]
  },
  {
   "attachments": {},
   "cell_type": "markdown",
   "metadata": {},
   "source": [
    "We can also load predefined conditions from a file. Like here we load conditions from a csv files that present that result of manuell gating applied to our sample."
   ]
  },
  {
   "cell_type": "code",
   "execution_count": null,
   "metadata": {},
   "outputs": [],
   "source": [
    "human_conditions = flow.BulkConditionOp(conditions_csv_path =  basepath + '494_labels.csv',\n",
    "                                      combine_order = [\"syto\", \"singlets\", \"intact\",\"cd19\", \"blast\"],\n",
    "                                      combined_conditions_name=\"human_gt\",\n",
    "                                      combined_condition_default =\"other\")\n",
    "\n",
    "ex3 = human_conditions.apply(ex2)"
   ]
  },
  {
   "attachments": {},
   "cell_type": "markdown",
   "metadata": {},
   "source": [
    "Each column in this CSV-File specifies if a particular event is inside the given gate. We define a combine order which essientially defines the gating hierachy. With this we end up with a column that shows the name of the last gate a event is into.\n",
    "We can see the difference when we now observe our dataframe. We have a new column foreach gate as we as a combined column showing the \"cell type\"."
   ]
  },
  {
   "cell_type": "code",
   "execution_count": null,
   "metadata": {},
   "outputs": [],
   "source": [
    "ex3.data"
   ]
  },
  {
   "attachments": {},
   "cell_type": "markdown",
   "metadata": {},
   "source": [
    "We now can use this human generated ground truth to subsample our FCM data in a useful way. We specify with the SubsampleOp that we want 1000 events of each label that is present in human_gt."
   ]
  },
  {
   "cell_type": "code",
   "execution_count": null,
   "metadata": {},
   "outputs": [],
   "source": [
    "subsample_op = flow.SubsampleOp(sampling_type = \"absolute\", sampling_def = {\"human_gt\":\"1000:FromEach\"})\n",
    "\n",
    "ex4 = subsample_op.apply(ex3)"
   ]
  },
  {
   "attachments": {},
   "cell_type": "markdown",
   "metadata": {},
   "source": [
    "As you can see now we only have exactly 6k events."
   ]
  },
  {
   "cell_type": "code",
   "execution_count": null,
   "metadata": {},
   "outputs": [],
   "source": [
    "ex4.data"
   ]
  },
  {
   "attachments": {},
   "cell_type": "markdown",
   "metadata": {},
   "source": [
    "## Advanced Operations\n",
    "Let's do some dimensionality reduction with UMAP (UMAP is like t-SNE, only better)."
   ]
  },
  {
   "cell_type": "code",
   "execution_count": null,
   "metadata": {},
   "outputs": [],
   "source": [
    "ex4.channels"
   ]
  },
  {
   "attachments": {},
   "cell_type": "markdown",
   "metadata": {},
   "source": [
    "Let's apply umap but only to the channels that are actually useful. So we won't use APC-CY7 and TIME."
   ]
  },
  {
   "cell_type": "code",
   "execution_count": null,
   "metadata": {},
   "outputs": [],
   "source": [
    "umap = flow.UMAPOp(name= \"umap\", channels = ex4.channels[1:-1])\n",
    "umap.estimate(ex4)\n",
    "\n",
    "ex5 = umap.apply(ex4)"
   ]
  },
  {
   "attachments": {},
   "cell_type": "markdown",
   "metadata": {},
   "source": [
    "UMAP is an operation that needs to be estimated before applied to any experiment. In this estimation step the dimensionality reduction is calculated. We can see that we now have two addtional channels: umap_1 and umap2."
   ]
  },
  {
   "cell_type": "code",
   "execution_count": null,
   "metadata": {},
   "outputs": [],
   "source": [
    "ex5.channels"
   ]
  },
  {
   "attachments": {},
   "cell_type": "markdown",
   "metadata": {},
   "source": [
    "Like the other operations also UMAP has a default view."
   ]
  },
  {
   "cell_type": "code",
   "execution_count": null,
   "metadata": {},
   "outputs": [],
   "source": [
    "umap.default_view().plot(ex5)"
   ]
  },
  {
   "attachments": {},
   "cell_type": "markdown",
   "metadata": {},
   "source": [
    "We see that UMAP clustered our events but we don't really know if those clusters make sense. Lets color the events by human ground truth."
   ]
  },
  {
   "cell_type": "code",
   "execution_count": null,
   "metadata": {},
   "outputs": [],
   "source": [
    "umap.default_view(huefacet=\"human_gt\").plot(ex5)"
   ]
  },
  {
   "attachments": {},
   "cell_type": "markdown",
   "metadata": {},
   "source": [
    "Now we can see that those clusters reflect quite well the cell population found by human operators. We can also run a clustering algorithm on the embedded data. Here we use HDBSCAN."
   ]
  },
  {
   "cell_type": "code",
   "execution_count": null,
   "metadata": {},
   "outputs": [],
   "source": [
    "clustering = flow.HDBSCANOp(name = \"hdbscan\", min_cluster_size  = 25, channels= [\"umap_1\", \"umap_2\"])\n",
    "clustering.estimate(ex5)\n",
    "\n",
    "ex6 = clustering.apply(ex5)"
   ]
  },
  {
   "cell_type": "code",
   "execution_count": null,
   "metadata": {},
   "outputs": [],
   "source": [
    "umap.default_view(huefacet=\"hdbscan\").plot(ex6)"
   ]
  },
  {
   "attachments": {},
   "cell_type": "markdown",
   "metadata": {},
   "source": [
    "## Machine Learning\n",
    "\n",
    "Python is especially powerful when it comes to the number of machine learning packages. In the following we load a Deep Learning model from the popular platform Hugging Face. [flowformer](https://huggingface.co/matth/flowformer) is model trained on B-ALL FCM data for detection of blast cells."
   ]
  },
  {
   "cell_type": "code",
   "execution_count": null,
   "metadata": {},
   "outputs": [],
   "source": [
    "from transformers import AutoModel\n",
    "flowformer = AutoModel.from_pretrained(\"matth/flowformer\", trust_remote_code=True)\n"
   ]
  },
  {
   "attachments": {},
   "cell_type": "markdown",
   "metadata": {},
   "source": [
    "Now we need to prepare our FCM data to be a suitable input for the model. First we select which data channels we want to pass to the model."
   ]
  },
  {
   "cell_type": "code",
   "execution_count": null,
   "metadata": {},
   "outputs": [],
   "source": [
    "ex6.channels"
   ]
  },
  {
   "attachments": {},
   "cell_type": "markdown",
   "metadata": {},
   "source": [
    "We don't need to umap channels therefore we pass all the channels except the last two."
   ]
  },
  {
   "cell_type": "code",
   "execution_count": null,
   "metadata": {},
   "outputs": [],
   "source": [
    "markers_to_use = ex6.channels[1:-2]"
   ]
  },
  {
   "attachments": {},
   "cell_type": "markdown",
   "metadata": {},
   "source": [
    "And we also need to convert our data into a Tensor (the datatype of [Pytorch](https://pytorch.org/))."
   ]
  },
  {
   "cell_type": "code",
   "execution_count": null,
   "metadata": {},
   "outputs": [],
   "source": [
    "import torch\n",
    "events_tensor = torch.Tensor(ex6.data[markers_to_use].to_numpy()).unsqueeze(dim=0)\n"
   ]
  },
  {
   "cell_type": "code",
   "execution_count": null,
   "metadata": {},
   "outputs": [],
   "source": [
    "len(markers_to_use)"
   ]
  },
  {
   "attachments": {},
   "cell_type": "markdown",
   "metadata": {},
   "source": [
    "Now we can simply pass our events for the prediction."
   ]
  },
  {
   "cell_type": "code",
   "execution_count": null,
   "metadata": {},
   "outputs": [],
   "source": [
    "output = flowformer(events_tensor, markers = markers_to_use)\n",
    "output"
   ]
  },
  {
   "attachments": {},
   "cell_type": "markdown",
   "metadata": {},
   "source": [
    "'prediction' tells us if the model predicted our events as blasts (1) or non-blasts (0)."
   ]
  },
  {
   "cell_type": "code",
   "execution_count": null,
   "metadata": {},
   "outputs": [],
   "source": [
    "output[\"prediction\"] = output[\"prediction\"].squeeze().numpy()"
   ]
  },
  {
   "cell_type": "code",
   "execution_count": null,
   "metadata": {},
   "outputs": [],
   "source": [
    "output[\"prediction\"]"
   ]
  },
  {
   "attachments": {},
   "cell_type": "markdown",
   "metadata": {},
   "source": [
    "The result can be plotted in our UMAP by adding the prediction as condition."
   ]
  },
  {
   "cell_type": "code",
   "execution_count": null,
   "metadata": {},
   "outputs": [],
   "source": [
    "ex6.add_condition(\"blast_pred\",dtype=\"bool\", data =output[\"prediction\"])\n"
   ]
  },
  {
   "cell_type": "code",
   "execution_count": null,
   "metadata": {},
   "outputs": [],
   "source": [
    "umap.default_view(huefacet = \"blast_pred\").plot(ex6)"
   ]
  },
  {
   "attachments": {},
   "cell_type": "markdown",
   "metadata": {},
   "source": [
    "In the UMAP plot we can see that the model predicted the this one cluster as blast cluster. But we can also get more percise performance results using a nother common Python Machine Learning toolkit called sklearn."
   ]
  },
  {
   "cell_type": "code",
   "execution_count": null,
   "metadata": {},
   "outputs": [],
   "source": [
    "from sklearn.metrics import classification_report\n",
    "print(classification_report(ex6.data[\"blast\"], ex6[\"blast_pred\"]))"
   ]
  }
 ],
 "metadata": {
  "kernelspec": {
   "display_name": ".venv",
   "language": "python",
   "name": "python3"
  },
  "language_info": {
   "codemirror_mode": {
    "name": "ipython",
    "version": 3
   },
   "file_extension": ".py",
   "mimetype": "text/x-python",
   "name": "python",
   "nbconvert_exporter": "python",
   "pygments_lexer": "ipython3",
   "version": "3.8.10"
  },
  "orig_nbformat": 4
 },
 "nbformat": 4,
 "nbformat_minor": 2
}
