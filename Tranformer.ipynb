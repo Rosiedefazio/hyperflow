{
 "cells": [
  {
   "cell_type": "code",
   "execution_count": 1,
   "metadata": {},
   "outputs": [],
   "source": [
    "from tqdm import tqdm\n",
    "\n",
    "import numpy as np\n",
    "import pandas as pd\n",
    "import seaborn as sns\n",
    "import matplotlib.pyplot as plt\n",
    "\n",
    "\n",
    "import torch\n",
    "import torch.nn as nn\n",
    "import torch.nn.functional as F\n",
    "import torch.optim as optim\n",
    "from sklearn.preprocessing import LabelEncoder\n",
    "from sklearn.model_selection import StratifiedShuffleSplit\n",
    "from sklearn.metrics import accuracy_score, classification_report, confusion_matrix, f1_score, precision_score, recall_score\n",
    "import cytoflow as flow\n",
    "import torch\n",
    "from collections import Counter"
   ]
  },
  {
   "cell_type": "code",
   "execution_count": 2,
   "metadata": {},
   "outputs": [
    {
     "data": {
      "text/plain": [
       "list"
      ]
     },
     "execution_count": 2,
     "metadata": {},
     "output_type": "execute_result"
    }
   ],
   "source": [
    "basepath = \"./data/\"\n",
    "tube1 = flow.Tube(file = basepath + '494.csv')\n",
    "ex = flow.ImportOp(tubes = [tube1]).apply()\n",
    "\n",
    "cd19_thresh = flow.ThresholdOp(name = \"CD19pos\",channel = 'CD19', threshold = 1.5)\n",
    "ex2 = cd19_thresh.apply(ex)\n",
    "\n",
    "human_conditions = flow.BulkConditionOp(conditions_csv_path =  basepath + '494_labels.csv',\n",
    "                                      combine_order = [\"syto\", \"singlets\", \"intact\",\"cd19\", \"blast\"],\n",
    "                                      combined_conditions_name=\"human_gt\",\n",
    "                                      combined_condition_default =\"other\")\n",
    "\n",
    "ex3 = human_conditions.apply(ex2)\n",
    "\n",
    "markers_to_use = ex3.channels[1:-2]\n",
    "type(markers_to_use)\n"
   ]
  },
  {
   "cell_type": "code",
   "execution_count": 3,
   "metadata": {},
   "outputs": [
    {
     "name": "stdout",
     "output_type": "stream",
     "text": [
      "['CD10', 'CD19', 'CD20', 'CD34', 'CD38', 'CD45', 'FSC-A', 'FSC-W', 'SSC-A']\n",
      "           TIME     FSC-A     FSC-W     SSC-A      CD20      CD10      CD45  \\\n",
      "0      0.256109  0.724819  0.000000  0.993575  0.511647  0.737258  3.116999   \n",
      "1      0.256109  2.111998  1.095594  0.789835  2.883300  4.009430  3.395909   \n",
      "2      0.256109  2.071740  1.094057  4.499983  1.406279  1.910993  2.866903   \n",
      "3      0.256150  1.923883  1.095217  0.648713  1.031393  4.020207  2.840137   \n",
      "4      0.256190  1.580198  1.005982  0.781159  1.264268  1.307244  3.775684   \n",
      "...         ...       ...       ...       ...       ...       ...       ...   \n",
      "83406  4.499838  4.229612  1.110860  4.499983  1.581865  1.840961  2.920752   \n",
      "83407  4.499919  1.721509  1.086372  0.589498  2.136454  3.867376  3.045547   \n",
      "83408  4.499959  1.888425  1.035353  1.412427  3.039960  4.131422  3.501659   \n",
      "83409  4.500000  1.479483  1.069826  0.567807  1.333666  4.141739  3.046796   \n",
      "83410  4.500000  1.235837  1.022533  0.782086  2.860944  3.888818  3.346173   \n",
      "\n",
      "           CD34      SY41      CD19  ...  index  allevents   syto  singlets  \\\n",
      "0      0.610369  2.394137  2.838983  ...  False       True  False     False   \n",
      "1      2.123596  3.296094  2.423301  ...   True       True   True      True   \n",
      "2      0.984716  3.535055  1.830034  ...   True       True   True      True   \n",
      "3      0.942146  3.296256  2.922170  ...   True       True   True      True   \n",
      "4      0.514218  2.890679  1.018567  ...   True       True   True      True   \n",
      "...         ...       ...       ...  ...    ...        ...    ...       ...   \n",
      "83406  1.529190  3.640661  1.976877  ...   True       True   True      True   \n",
      "83407  2.038175  2.996041  1.974872  ...   True       True   True      True   \n",
      "83408  2.281008  3.293125  3.573528  ...   True       True   True      True   \n",
      "83409  1.852519  3.120067  2.561236  ...   True       True   True      True   \n",
      "83410  1.913767  3.015716  3.390506  ...   True       True   True      True   \n",
      "\n",
      "       intact  erythropoiesis   cd19   cd20  blast  human_gt  \n",
      "0       False           False  False  False  False     other  \n",
      "1        True           False   True  False   True     blast  \n",
      "2        True           False  False  False  False    intact  \n",
      "3        True           False   True  False   True     blast  \n",
      "4        True           False  False  False  False    intact  \n",
      "...       ...             ...    ...    ...    ...       ...  \n",
      "83406    True           False  False  False  False    intact  \n",
      "83407    True           False   True  False   True     blast  \n",
      "83408    True           False   True  False   True     blast  \n",
      "83409    True           False   True  False   True     blast  \n",
      "83410    True           False   True  False   True     blast  \n",
      "\n",
      "[83411 rows x 23 columns]\n"
     ]
    }
   ],
   "source": [
    "print(markers_to_use)\n",
    "print(ex3.data)"
   ]
  },
  {
   "cell_type": "code",
   "execution_count": 4,
   "metadata": {},
   "outputs": [
    {
     "name": "stdout",
     "output_type": "stream",
     "text": [
      "{'blast': 0, 'cd19': 1, 'intact': 2, 'other': 3, 'singlets': 4, 'syto': 5}\n"
     ]
    }
   ],
   "source": [
    "df = ex3.data \n",
    "# Initialize LabelEncoder\n",
    "label_encoder = LabelEncoder()\n",
    "\n",
    "# Encode the categorical column\n",
    "df['human_gt'] = label_encoder.fit_transform(df['human_gt'])\n",
    "\n",
    "# Separate features and labels\n",
    "X = df.drop('human_gt', axis=1).values\n",
    "y = df['human_gt'].values\n",
    "\n",
    "label_mapping = dict(zip(label_encoder.classes_, range(len(label_encoder.classes_))))\n",
    "\n",
    "print(label_mapping)"
   ]
  },
  {
   "cell_type": "code",
   "execution_count": 5,
   "metadata": {},
   "outputs": [
    {
     "name": "stdout",
     "output_type": "stream",
     "text": [
      "tensor([[[0.7373, 2.8390, 0.5116,  ..., 0.7248, 0.0000, 0.9936],\n",
      "         [4.0094, 2.4233, 2.8833,  ..., 2.1120, 1.0956, 0.7898],\n",
      "         [1.9110, 1.8300, 1.4063,  ..., 2.0717, 1.0941, 4.5000],\n",
      "         ...,\n",
      "         [4.1314, 3.5735, 3.0400,  ..., 1.8884, 1.0354, 1.4124],\n",
      "         [4.1417, 2.5612, 1.3337,  ..., 1.4795, 1.0698, 0.5678],\n",
      "         [3.8888, 3.3905, 2.8609,  ..., 1.2358, 1.0225, 0.7821]]])\n",
      "torch.Size([1, 83411, 9])\n",
      "9\n"
     ]
    }
   ],
   "source": [
    "events_tensor = torch.Tensor(ex3.data[markers_to_use].to_numpy()).unsqueeze(dim=0)\n",
    "print(events_tensor)\n",
    "print(events_tensor.shape)\n",
    "\n",
    "print(len(markers_to_use))"
   ]
  },
  {
   "cell_type": "code",
   "execution_count": 6,
   "metadata": {},
   "outputs": [],
   "source": [
    "from transformers import AutoModel\n",
    "flowformer = AutoModel.from_pretrained(\"matth/flowformer\", trust_remote_code=True)"
   ]
  },
  {
   "cell_type": "code",
   "execution_count": 7,
   "metadata": {},
   "outputs": [
    {
     "name": "stdout",
     "output_type": "stream",
     "text": [
      "{'logits': tensor([[ -2.1165,   1.3967, -10.9895,  ...,   5.8799,   6.8554,   7.1269]],\n",
      "       grad_fn=<SelectBackward0>), 'prediction': tensor([[0, 1, 0,  ..., 1, 1, 1]])}\n"
     ]
    }
   ],
   "source": [
    "output = flowformer(events_tensor, markers= markers_to_use)\n",
    "print(output)"
   ]
  },
  {
   "cell_type": "code",
   "execution_count": 8,
   "metadata": {},
   "outputs": [],
   "source": [
    "output[\"prediction\"] = output[\"prediction\"].squeeze().numpy()"
   ]
  },
  {
   "cell_type": "code",
   "execution_count": 9,
   "metadata": {},
   "outputs": [
    {
     "name": "stdout",
     "output_type": "stream",
     "text": [
      "{'logits': tensor([[ -2.1165,   1.3967, -10.9895,  ...,   5.8799,   6.8554,   7.1269]],\n",
      "       grad_fn=<SelectBackward0>), 'prediction': array([0, 1, 0, ..., 1, 1, 1], dtype=int64)}\n"
     ]
    }
   ],
   "source": [
    "print(output)"
   ]
  },
  {
   "cell_type": "code",
   "execution_count": 10,
   "metadata": {},
   "outputs": [],
   "source": [
    "ex3.add_condition(\"prediction\",dtype=\"bool\", data =output[\"prediction\"])"
   ]
  },
  {
   "cell_type": "code",
   "execution_count": 11,
   "metadata": {},
   "outputs": [
    {
     "name": "stdout",
     "output_type": "stream",
     "text": [
      "              precision    recall  f1-score   support\n",
      "\n",
      "       False       0.99      0.98      0.99     49296\n",
      "        True       0.98      0.98      0.98     34115\n",
      "\n",
      "    accuracy                           0.98     83411\n",
      "   macro avg       0.98      0.98      0.98     83411\n",
      "weighted avg       0.98      0.98      0.98     83411\n",
      "\n"
     ]
    }
   ],
   "source": [
    "from sklearn.metrics import classification_report\n",
    "print(classification_report(ex3[\"prediction\"], df[\"blast\"]))"
   ]
  },
  {
   "cell_type": "code",
   "execution_count": 12,
   "metadata": {},
   "outputs": [
    {
     "name": "stdout",
     "output_type": "stream",
     "text": [
      "              precision    recall  f1-score   support\n",
      "\n",
      "       False       0.99      0.90      0.94     49296\n",
      "        True       0.87      0.98      0.92     34115\n",
      "\n",
      "    accuracy                           0.93     83411\n",
      "   macro avg       0.93      0.94      0.93     83411\n",
      "weighted avg       0.94      0.93      0.93     83411\n",
      "\n"
     ]
    }
   ],
   "source": [
    "from sklearn.metrics import classification_report\n",
    "print(classification_report(ex3[\"prediction\"], df[\"cd19\"]))"
   ]
  },
  {
   "cell_type": "code",
   "execution_count": 13,
   "metadata": {},
   "outputs": [
    {
     "name": "stdout",
     "output_type": "stream",
     "text": [
      "              precision    recall  f1-score   support\n",
      "\n",
      "       False       0.93      0.11      0.20     49296\n",
      "        True       0.43      0.99      0.60     34115\n",
      "\n",
      "    accuracy                           0.47     83411\n",
      "   macro avg       0.68      0.55      0.40     83411\n",
      "weighted avg       0.72      0.47      0.36     83411\n",
      "\n"
     ]
    }
   ],
   "source": [
    "from sklearn.metrics import classification_report\n",
    "print(classification_report(ex3[\"prediction\"], df[\"intact\"]))"
   ]
  },
  {
   "cell_type": "code",
   "execution_count": 14,
   "metadata": {},
   "outputs": [
    {
     "name": "stdout",
     "output_type": "stream",
     "text": [
      "              precision    recall  f1-score   support\n",
      "\n",
      "       False       0.93      0.09      0.17     49296\n",
      "        True       0.43      0.99      0.60     34115\n",
      "\n",
      "    accuracy                           0.46     83411\n",
      "   macro avg       0.68      0.54      0.39     83411\n",
      "weighted avg       0.73      0.46      0.35     83411\n",
      "\n"
     ]
    }
   ],
   "source": [
    "from sklearn.metrics import classification_report\n",
    "print(classification_report(ex3[\"prediction\"], df[\"singlets\"]))"
   ]
  },
  {
   "cell_type": "code",
   "execution_count": 15,
   "metadata": {},
   "outputs": [
    {
     "name": "stdout",
     "output_type": "stream",
     "text": [
      "              precision    recall  f1-score   support\n",
      "\n",
      "       False       0.99      0.06      0.11     49296\n",
      "        True       0.42      1.00      0.60     34115\n",
      "\n",
      "    accuracy                           0.44     83411\n",
      "   macro avg       0.71      0.53      0.35     83411\n",
      "weighted avg       0.76      0.44      0.31     83411\n",
      "\n"
     ]
    }
   ],
   "source": [
    "from sklearn.metrics import classification_report\n",
    "print(classification_report(ex3[\"prediction\"], df[\"syto\"]))"
   ]
  }
 ],
 "metadata": {
  "kernelspec": {
   "display_name": ".venv",
   "language": "python",
   "name": "python3"
  },
  "language_info": {
   "codemirror_mode": {
    "name": "ipython",
    "version": 3
   },
   "file_extension": ".py",
   "mimetype": "text/x-python",
   "name": "python",
   "nbconvert_exporter": "python",
   "pygments_lexer": "ipython3",
   "version": "3.8.10"
  }
 },
 "nbformat": 4,
 "nbformat_minor": 2
}
